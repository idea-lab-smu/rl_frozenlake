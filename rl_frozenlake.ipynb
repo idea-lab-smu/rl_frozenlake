{
 "cells": [
  {
   "cell_type": "markdown",
   "id": "neither-saying",
   "metadata": {},
   "source": [
    "참고링크: https://sumniya.tistory.com/4, https://jeinalog.tistory.com/20, http://blog.quantylab.com/rl.html, https://m.blog.naver.com/hongjg3229/221590282094, https://apincan.tistory.com/41, https://passi0n.tistory.com/86, https://engineering-ladder.tistory.com/68, https://mobicon.tistory.com/539    \n",
    "#### 강화학습\n",
    "   - tabular 방식  \n",
    "   - deep learning 방식\n",
    "     - q-value 구하는 것을 딥러닝과 결합한 것이 DQN(=딥러닝을 통해 q-vaule값을 approximate함)\n",
    "     > q-value란?  \n",
    "     > = 최종적으로 받는 모든 보상의 총합  \n",
    "     > <img src=\"https://user-images.githubusercontent.com/47767202/106096240-81685400-6178-11eb-8cb8-e7eae1e050d1.png\" width=\"30%\">  \n",
    "\n",
    "이 외의 강화학습 용어 참고: https://namu.wiki/w/%EA%B0%95%ED%99%94%ED%95%99%EC%8A%B5/%EC%9A%A9%EC%96%B4\n",
    "\n",
    "#### frozen lake\n",
    "OpenAI gym에서 제공하는 강화학습 환경 중 하나. 다른 종류로는 cartPole이 있음.  \n",
    "<img src=\"https://user-images.githubusercontent.com/47767202/106099841-ae1f6a00-617e-11eb-9e18-92b8ae4b5b5d.png\" width=\"30%\">\n",
    "   - environment는 4*4 모양의 언 호수\n",
    "   - state는 start / goal / safe-frozen / dangerous hole  \n",
    "   - action은 up / left / down / right\n",
    "   - reward는 1(goal state일때) 또는 0(그 외 나머지 경우)\n",
    "   - \\+ agent는 environment를 모르는 상태"
   ]
  },
  {
   "cell_type": "markdown",
   "id": "blocked-reasoning",
   "metadata": {},
   "source": [
    "### -----------------------------------------------------------"
   ]
  },
  {
   "cell_type": "markdown",
   "id": "active-theology",
   "metadata": {},
   "source": [
    "출처: https://passi0n.tistory.com/86  \n",
    "<img src=\"https://user-images.githubusercontent.com/47767202/106238698-a9bd8480-6244-11eb-940a-0d40eea7d159.png\" width=\"80%\">  \n",
    "\n",
    "- tabular방식 = q-table\n",
    "\n",
    "---------\n",
    "\n",
    "출처: https://sumniya.tistory.com/4\n",
    "<img src=\"https://user-images.githubusercontent.com/47767202/106241851-10916c80-624a-11eb-9d4a-ece7dcea58ba.png\" width=\"80%\">\n",
    "\n",
    "- q-table에서 neural network이용한게 q-net\n",
    "\n",
    "--------\n",
    "\n",
    "출처: https://sumniya.tistory.com/19\n",
    "<img src=\"https://user-images.githubusercontent.com/47767202/106242145-92819580-624a-11eb-9a25-98586a6c82da.png\" width=\"80%\">\n",
    "\n",
    "- q-net에서 딥러닝적용한게 DQN\n",
    "\n",
    "------\n",
    "\n",
    "출처: https://mclearninglab.tistory.com/64\n",
    "<img src=\"https://user-images.githubusercontent.com/47767202/106245696-3b7ebf00-6250-11eb-8582-0a0cffffee94.png\" width=\"80%\">\n",
    "\n",
    "- __Q: tabular 방식은 model-free의 q-learning방식?? or 그냥 따로 봐야하는건지??__\n",
    "    - 답: "
   ]
  },
  {
   "cell_type": "markdown",
   "id": "owned-dylan",
   "metadata": {},
   "source": [
    "### 1. tabular방식 + frozen lake 환경\n",
    "코드참고링크: https://sumniya.tistory.com/4  \n",
    "설명참고링크: https://www.youtube.com/watch?v=MQ-3QScrFSI"
   ]
  },
  {
   "cell_type": "code",
   "execution_count": 1,
   "id": "younger-offense",
   "metadata": {},
   "outputs": [],
   "source": [
    "import gym\n",
    "import numpy as np"
   ]
  },
  {
   "cell_type": "code",
   "execution_count": 2,
   "id": "related-kinase",
   "metadata": {},
   "outputs": [],
   "source": [
    "env=gym.make('FrozenLake-v0')"
   ]
  },
  {
   "cell_type": "code",
   "execution_count": 4,
   "id": "global-printing",
   "metadata": {},
   "outputs": [],
   "source": [
    "#Initialize table with all zeros\n",
    "Q = np.zeros([env.observation_space.n, env.action_space.n])"
   ]
  },
  {
   "cell_type": "code",
   "execution_count": 5,
   "id": "valuable-decision",
   "metadata": {},
   "outputs": [
    {
     "data": {
      "text/plain": [
       "array([[0., 0., 0., 0.],\n",
       "       [0., 0., 0., 0.],\n",
       "       [0., 0., 0., 0.],\n",
       "       [0., 0., 0., 0.],\n",
       "       [0., 0., 0., 0.],\n",
       "       [0., 0., 0., 0.],\n",
       "       [0., 0., 0., 0.],\n",
       "       [0., 0., 0., 0.],\n",
       "       [0., 0., 0., 0.],\n",
       "       [0., 0., 0., 0.],\n",
       "       [0., 0., 0., 0.],\n",
       "       [0., 0., 0., 0.],\n",
       "       [0., 0., 0., 0.],\n",
       "       [0., 0., 0., 0.],\n",
       "       [0., 0., 0., 0.],\n",
       "       [0., 0., 0., 0.]])"
      ]
     },
     "execution_count": 5,
     "metadata": {},
     "output_type": "execute_result"
    }
   ],
   "source": [
    "Q"
   ]
  },
  {
   "cell_type": "markdown",
   "id": "timely-lender",
   "metadata": {},
   "source": [
    "Q -Table of FrozenLake env. has a 16 X 4 grid of shape. (one for each block : 16) X (Action : 4) // up, down, left or right"
   ]
  },
  {
   "cell_type": "code",
   "execution_count": 6,
   "id": "parallel-australia",
   "metadata": {},
   "outputs": [
    {
     "name": "stdout",
     "output_type": "stream",
     "text": [
      "\n",
      "\u001b[41mS\u001b[0mFFF\n",
      "FHFH\n",
      "FFFH\n",
      "HFFG\n",
      "------------------------\n",
      "  (Left)\n",
      "SFFF\n",
      "\u001b[41mF\u001b[0mHFH\n",
      "FFFH\n",
      "HFFG\n",
      "action: 0\n",
      "state : 4 \n",
      "info : 0.333\n",
      "------------------------\n",
      "  (Down)\n",
      "SFFF\n",
      "\u001b[41mF\u001b[0mHFH\n",
      "FFFH\n",
      "HFFG\n",
      "action: 1\n",
      "state : 4 \n",
      "info : 0.333\n",
      "------------------------\n",
      "  (Right)\n",
      "S\u001b[41mF\u001b[0mFF\n",
      "FHFH\n",
      "FFFH\n",
      "HFFG\n",
      "action: 2\n",
      "state : 1 \n",
      "info : 0.333\n",
      "------------------------\n",
      "  (Up)\n",
      "\u001b[41mS\u001b[0mFFF\n",
      "FHFH\n",
      "FFFH\n",
      "HFFG\n",
      "action: 3\n",
      "state : 0 \n",
      "info : 0.333\n",
      "------------------------\n"
     ]
    }
   ],
   "source": [
    "# 얘는 잠깐 보여주기용\n",
    "observation = env.reset()\n",
    "env.render() # render = 환경을 화면으로 출력해줌\n",
    "print('------------------------')\n",
    "for i in range(env.action_space.n):\n",
    "    action = i\n",
    "    observation, reward, done, info = env.step(action)\n",
    "    env.render()\n",
    "    print('action: %d' %action) # 0: left, 1: down, 2: right, 3: up\n",
    "    print('state : %d \\ninfo : %.3f' %(observation,info['prob']))\n",
    "    print('------------------------')\n",
    "    observation = env.reset()"
   ]
  },
  {
   "cell_type": "markdown",
   "id": "medium-closure",
   "metadata": {},
   "source": [
    "is_slippery=True\n",
    "- frozen lake라는 환경은 바람도 많이 불고 빙판길을 걸어가다가 미끄러질 수 있는 변수가 많은 환경이기 때문에, agent는 자신이 원하는 곳으로 마음껏 갈 수 있는 것이 아니다.  \n",
    "= stochastic model이다. \n",
    "[이에 관한 설명 링크](https://apincan.tistory.com/41)\n",
    "\n",
    "\n",
    "- -> Q-table을 갱신할 때 새로운 Q값(즉각적인 보상과 다음 상태에서 얻을 수 있는 최대 보상의 합)보다 기존에 구했던 Q값을 더 신뢰하는 방법을 채택"
   ]
  },
  {
   "cell_type": "code",
   "execution_count": 7,
   "id": "chicken-rapid",
   "metadata": {},
   "outputs": [],
   "source": [
    "# Set learning parameters\n",
    "lr = .8   # learning rate: 값이 크게 줄을수록 학습 속도가 빨라짐\n",
    "y = .95   # discount factor\n",
    "num_episodes = 2000\n",
    "\n",
    "#create lists to contain total rewards and steps per episode\n",
    "rList = [] # reword list\n",
    "# sList = [] # state list"
   ]
  },
  {
   "cell_type": "code",
   "execution_count": 8,
   "id": "opened-mainstream",
   "metadata": {},
   "outputs": [],
   "source": [
    "for i in range(num_episodes):\n",
    "    s = env.reset() # Reset environment and get first new observation\n",
    "    rAll = 0        # total reward\n",
    "    d = False       # end of precess\n",
    "    j = 0           # step\n",
    "#     print('------<initial state>-------')\n",
    "#     env.render()\n",
    "#     print('state : %d \\ninfo : %.3f' %(s,info['prob']))\n",
    "#     print('----------------------------')\n",
    "    #The Q-Table learning algorithm\n",
    "    while j < 100:\n",
    "        j+=1\n",
    "        \n",
    "        # Choose an action by greedily (with noise) picking from Q table\n",
    "        # 1/ (i+1) factor has the effect of cutting back on randomness\n",
    "        a = np.argmax(Q[s,:] + np.random.randn(1,env.action_space.n)*(1./(i+1)))  \n",
    "        # 원래식은 a = np.armax(Q[s,:])\n",
    "        # -> 한번 Q-table이 완성되고 나면 항상 같은 루트로만 이동하는 문제점\n",
    "        # -> 아직 가보지 않은 더 최적화된 루트를 찾기 위해 랜덤노이즈 이용\n",
    "        \n",
    "        #Get new state and reward of action an agent did from environment\n",
    "        s1, r, d, info = env.step(a)\n",
    "        \n",
    "        # Update Q-Table with new knowledge(=reward)\n",
    "        Q[s,a] = Q[s,a] + lr*(r + y*np.max(Q[s1,:]) - Q[s,a]) \n",
    "        # 원래식은 Q[s,a] = r + np.max(Q[s1,:])\n",
    "        \n",
    "        rAll += r # add reward \n",
    "        s = s1    # move to next state\n",
    "\n",
    "        # Check some conditions in console\n",
    "#         env.render()\n",
    "#         print('step : ')\n",
    "#         print('action: %d' %a)\n",
    "#         print('state : %d \\ninfo : %.3f' %(s,info['prob']))\n",
    "#         print('----------------------------')\n",
    "        \n",
    "        # check the end of process = hole이거나 goal일때\n",
    "        if d == True:\n",
    "#             if rAll == 1:\n",
    "#                 print('Arrive at goal State!\\n')\n",
    "\n",
    "#             else:\n",
    "#                 print('Arrive at hole. T.T\\n')\n",
    "            break\n",
    "    #jList.append(j)\n",
    "    rList.append(rAll)"
   ]
  },
  {
   "cell_type": "code",
   "execution_count": 9,
   "id": "preceding-batman",
   "metadata": {},
   "outputs": [
    {
     "name": "stdout",
     "output_type": "stream",
     "text": [
      "Score over time: 0.519\n"
     ]
    }
   ],
   "source": [
    "print (\"Score over time: \" +  str(sum(rList)/num_episodes))"
   ]
  },
  {
   "cell_type": "markdown",
   "id": "vertical-presence",
   "metadata": {},
   "source": [
    "0.519 * 2000(num of episode) = 1038번 goal에 도착했음을 알 수 있음"
   ]
  },
  {
   "cell_type": "code",
   "execution_count": 10,
   "id": "everyday-bangkok",
   "metadata": {},
   "outputs": [
    {
     "name": "stdout",
     "output_type": "stream",
     "text": [
      "Final Q-Table Values\n",
      "[[0.151 0.01  0.005 0.004]\n",
      " [0.004 0.    0.    0.173]\n",
      " [0.002 0.004 0.    0.118]\n",
      " [0.001 0.    0.004 0.099]\n",
      " [0.278 0.    0.001 0.001]\n",
      " [0.    0.    0.    0.   ]\n",
      " [0.    0.    0.012 0.   ]\n",
      " [0.    0.    0.    0.   ]\n",
      " [0.001 0.    0.    0.276]\n",
      " [0.003 0.588 0.001 0.   ]\n",
      " [0.212 0.001 0.    0.   ]\n",
      " [0.    0.    0.    0.   ]\n",
      " [0.    0.    0.    0.   ]\n",
      " [0.    0.003 0.867 0.   ]\n",
      " [0.    0.    0.851 0.   ]\n",
      " [0.    0.    0.    0.   ]]\n"
     ]
    }
   ],
   "source": [
    "print (\"Final Q-Table Values\")\n",
    "print (np.round(Q,3))"
   ]
  },
  {
   "cell_type": "markdown",
   "id": "guided-comfort",
   "metadata": {},
   "source": [
    "초기상태 Q-table\n",
    "<img src=\"https://user-images.githubusercontent.com/47767202/106382553-b1775780-6403-11eb-86db-a0ba6f4005d4.png\" width=\"40%\">\n",
    "업데이트중인 Q-table(예시)\n",
    "<img src=\"https://user-images.githubusercontent.com/47767202/106382628-2fd3f980-6404-11eb-8c15-9a8cd3041d5b.png\" width=\"50%\">\n",
    "최종 Q-table(예시)\n",
    "<img src=\"https://user-images.githubusercontent.com/47767202/106382574-d8358e00-6403-11eb-8290-1ec8f0c8908b.png\" width=\"40%\">"
   ]
  },
  {
   "cell_type": "markdown",
   "id": "changing-favor",
   "metadata": {},
   "source": [
    "Let me check more detail. I'll get the index of the maximum prob. in every row, then translate to action."
   ]
  },
  {
   "cell_type": "code",
   "execution_count": 11,
   "id": "falling-panic",
   "metadata": {},
   "outputs": [
    {
     "name": "stdout",
     "output_type": "stream",
     "text": [
      "at state, the agent move : \n",
      "['Left', 'Up', 'Up', 'Up', 'Left', 'hole or goal state', 'Right', 'hole or goal state', 'Up', 'Down', 'Left', 'hole or goal state', 'hole or goal state', 'Right', 'Right', 'hole or goal state']\n"
     ]
    }
   ],
   "source": [
    "action_at_state=[]\n",
    "action_set=['Left', 'Down', 'Right', 'Up']\n",
    "for i in range(len(Q)):\n",
    "    if np.sum(Q[i]) == 0:\n",
    "        action_at_state.append('hole or goal state')\n",
    "    else:\n",
    "        idx=np.argmax(Q[i])\n",
    "        action_at_state.append(action_set[idx])\n",
    "print (\"at state, the agent move : \")\n",
    "print (action_at_state)"
   ]
  },
  {
   "cell_type": "markdown",
   "id": "regional-tanzania",
   "metadata": {},
   "source": [
    "- Q: 추측한 q-table이 이상하게 나온 이유는 frozen lake가 stochastic model이라서?"
   ]
  },
  {
   "cell_type": "markdown",
   "id": "encouraging-laptop",
   "metadata": {},
   "source": [
    "### -----------------------------------------------------------"
   ]
  },
  {
   "cell_type": "markdown",
   "id": "surprising-expansion",
   "metadata": {},
   "source": [
    "### 2. q-net + frozen lake 환경\n",
    "코드참고링크: https://sumniya.tistory.com/4  \n",
    "설명참고링크: https://www.youtube.com/watch?v=S1Y9eys2bdg&feature=youtu.be"
   ]
  },
  {
   "cell_type": "markdown",
   "id": "virgin-baking",
   "metadata": {},
   "source": [
    "q-table은 복잡한 실제 문제의 경우 큰 연산이 필요함.\n",
    "따라서 table이 아닌 다른 방법으로 q-value를 얻는 방법 연구 -> q-net  \n",
    "q-net: 실제 값을 모두 observe하여 수치화하는 것이 아닌 function approximator로써 data를 얻음  \n",
    "과정: 1\\*16형태의 one-hot vector를 인코딩하여 각 action에 대한 q-value 도출 -> 이 vector는 nn의 알고리즘에 따라 loss function과 back-prop로 weight를 학습 -> vector 업데이트  "
   ]
  },
  {
   "cell_type": "code",
   "execution_count": 4,
   "id": "great-frame",
   "metadata": {},
   "outputs": [
    {
     "name": "stderr",
     "output_type": "stream",
     "text": [
      "C:\\Users\\sohyeon\\Anaconda3\\envs\\metarl\\lib\\site-packages\\tensorflow\\python\\framework\\dtypes.py:526: FutureWarning: Passing (type, 1) or '1type' as a synonym of type is deprecated; in a future version of numpy, it will be understood as (type, (1,)) / '(1,)type'.\n",
      "  _np_qint8 = np.dtype([(\"qint8\", np.int8, 1)])\n",
      "C:\\Users\\sohyeon\\Anaconda3\\envs\\metarl\\lib\\site-packages\\tensorflow\\python\\framework\\dtypes.py:527: FutureWarning: Passing (type, 1) or '1type' as a synonym of type is deprecated; in a future version of numpy, it will be understood as (type, (1,)) / '(1,)type'.\n",
      "  _np_quint8 = np.dtype([(\"quint8\", np.uint8, 1)])\n",
      "C:\\Users\\sohyeon\\Anaconda3\\envs\\metarl\\lib\\site-packages\\tensorflow\\python\\framework\\dtypes.py:528: FutureWarning: Passing (type, 1) or '1type' as a synonym of type is deprecated; in a future version of numpy, it will be understood as (type, (1,)) / '(1,)type'.\n",
      "  _np_qint16 = np.dtype([(\"qint16\", np.int16, 1)])\n",
      "C:\\Users\\sohyeon\\Anaconda3\\envs\\metarl\\lib\\site-packages\\tensorflow\\python\\framework\\dtypes.py:529: FutureWarning: Passing (type, 1) or '1type' as a synonym of type is deprecated; in a future version of numpy, it will be understood as (type, (1,)) / '(1,)type'.\n",
      "  _np_quint16 = np.dtype([(\"quint16\", np.uint16, 1)])\n",
      "C:\\Users\\sohyeon\\Anaconda3\\envs\\metarl\\lib\\site-packages\\tensorflow\\python\\framework\\dtypes.py:530: FutureWarning: Passing (type, 1) or '1type' as a synonym of type is deprecated; in a future version of numpy, it will be understood as (type, (1,)) / '(1,)type'.\n",
      "  _np_qint32 = np.dtype([(\"qint32\", np.int32, 1)])\n",
      "C:\\Users\\sohyeon\\Anaconda3\\envs\\metarl\\lib\\site-packages\\tensorflow\\python\\framework\\dtypes.py:535: FutureWarning: Passing (type, 1) or '1type' as a synonym of type is deprecated; in a future version of numpy, it will be understood as (type, (1,)) / '(1,)type'.\n",
      "  np_resource = np.dtype([(\"resource\", np.ubyte, 1)])\n"
     ]
    }
   ],
   "source": [
    "import gym\n",
    "import numpy as np\n",
    "import random\n",
    "import tensorflow as tf\n",
    "import matplotlib.pyplot as plt\n",
    "%matplotlib inline"
   ]
  },
  {
   "cell_type": "code",
   "execution_count": 5,
   "id": "accredited-indonesia",
   "metadata": {},
   "outputs": [],
   "source": [
    "env = gym.make('FrozenLake-v0')"
   ]
  },
  {
   "cell_type": "code",
   "execution_count": 6,
   "id": "annoying-logan",
   "metadata": {},
   "outputs": [],
   "source": [
    "tf.reset_default_graph()"
   ]
  },
  {
   "cell_type": "code",
   "execution_count": 7,
   "id": "supported-abortion",
   "metadata": {},
   "outputs": [
    {
     "name": "stdout",
     "output_type": "stream",
     "text": [
      "WARNING:tensorflow:From C:\\Users\\sohyeon\\Anaconda3\\envs\\metarl\\lib\\site-packages\\tensorflow\\python\\framework\\op_def_library.py:263: colocate_with (from tensorflow.python.framework.ops) is deprecated and will be removed in a future version.\n",
      "Instructions for updating:\n",
      "Colocations handled automatically by placer.\n"
     ]
    }
   ],
   "source": [
    "#These lines establish the feed-forward part of the network used to choose actions\n",
    "inputs1 = tf.placeholder(shape=[1,16],dtype=tf.float32)\n",
    "# inputs1 = X, 16 = input_size\n",
    "W = tf.Variable(tf.random_uniform([16,4], 0, 0.01))\n",
    "# 16 = input_size, 4 = output_size\n",
    "\n",
    "Q_out = tf.matmul(inputs1, W)\n",
    "predict = tf.argmax(Q_out, 1) # return : index"
   ]
  },
  {
   "cell_type": "code",
   "execution_count": 8,
   "id": "neutral-mattress",
   "metadata": {},
   "outputs": [],
   "source": [
    "#Below we obtain the loss by taking the sum of squares difference between the target and prediction Q values.\n",
    "next_Q = tf.placeholder(shape=[1,4],dtype=tf.float32)\n",
    "# next_Q = y, 4 = output_size\n",
    "\n",
    "loss = tf.reduce_sum(tf.square(next_Q - Q_out))\n",
    "trainer = tf.train.GradientDescentOptimizer(learning_rate=0.1)# learing by SGD\n",
    "updateModel = trainer.minimize(loss)"
   ]
  },
  {
   "cell_type": "code",
   "execution_count": 9,
   "id": "funny-professional",
   "metadata": {},
   "outputs": [
    {
     "name": "stdout",
     "output_type": "stream",
     "text": [
      "Percent of succesful episodes: 0.4175%\n"
     ]
    }
   ],
   "source": [
    "init = tf.global_variables_initializer()\n",
    "\n",
    "# Set learning parameters\n",
    "y = .99\n",
    "e = 0.1\n",
    "num_episodes = 2000\n",
    "\n",
    "# Create lists to contain total rewards and steps per episode\n",
    "\n",
    "jList = []\n",
    "rList = []\n",
    "with tf.Session() as sess:\n",
    "    sess.run(init)\n",
    "    \n",
    "    for i in range(num_episodes):\n",
    "        # Reset environment and get first new observation\n",
    "        s = env.reset()\n",
    "        rAll = 0\n",
    "        d = False\n",
    "        j = 0\n",
    "        \n",
    "        # The Q-Network\n",
    "        while j < 99:\n",
    "            j+=1\n",
    "            \n",
    "            # Choose an action by greedily (with e chance of random action) from the Q-network\n",
    "            a, all_Q = sess.run([predict,Q_out], feed_dict={inputs1:np.identity(16)[s:s+1]})\n",
    "            if np.random.rand(1) < e:\n",
    "                a[0] = env.action_space.sample()\n",
    "                \n",
    "            # Get new state and reward from environment\n",
    "            s1,r,d,_ = env.step(a[0])\n",
    "            \n",
    "            # Obtain the Q' values by feeding the new state through our network\n",
    "            Q1 = sess.run(Q_out, feed_dict={inputs1:np.identity(16)[s1:s1+1]})\n",
    "            \n",
    "            # Obtain maxQ' and set our target value for chosen action.\n",
    "            max_Q1 = np.max(Q1)\n",
    "            target_Q = all_Q\n",
    "            target_Q[0,a[0]] = r + y*max_Q1\n",
    "            \n",
    "            # Train our network using target and predicted Q values\n",
    "            _, W1 = sess.run([updateModel,W], feed_dict={inputs1:np.identity(16)[s:s+1], next_Q:target_Q})\n",
    "            rAll += r\n",
    "            s = s1\n",
    "            \n",
    "            if d == True:\n",
    "                # Reduce chance of random action as we train the model.\n",
    "                e = 1./((i/50) + 10)\n",
    "                break\n",
    "                \n",
    "        jList.append(j)     # step\n",
    "        rList.append(rAll)  # total reward\n",
    "        \n",
    "print(\"Percent of succesful episodes: \" + str(sum(rList)/num_episodes) + \"%\")"
   ]
  },
  {
   "cell_type": "markdown",
   "id": "serial-jonathan",
   "metadata": {},
   "source": [
    "0.4175 * 2000 = 835번 goal에 도착했음을 알 수 있음  \n",
    "-> q-table보다 성능 떨어짐. 하지만 q-table보다 유연성이 뛰어남"
   ]
  },
  {
   "cell_type": "code",
   "execution_count": 10,
   "id": "artistic-analysis",
   "metadata": {},
   "outputs": [
    {
     "data": {
      "image/png": "[encoded data removed]",
      "text/plain": [
       "<Figure size 432x288 with 1 Axes>"
      ]
     },
     "metadata": {
      "needs_background": "light"
     },
     "output_type": "display_data"
    }
   ],
   "source": [
    "# 시각화\n",
    "plt.plot(rList)\n",
    "plt.show()"
   ]
  },
  {
   "cell_type": "code",
   "execution_count": 11,
   "id": "junior-saudi",
   "metadata": {},
   "outputs": [
    {
     "data": {
      "image/png": "[encoded data removed]",
      "text/plain": [
       "<Figure size 432x288 with 1 Axes>"
      ]
     },
     "metadata": {
      "needs_background": "light"
     },
     "output_type": "display_data"
    }
   ],
   "source": [
    "plt.plot(jList)\n",
    "plt.show()"
   ]
  },
  {
   "cell_type": "markdown",
   "id": "flush-temple",
   "metadata": {},
   "source": [
    "### 3. DQN + frozen lake 환경\n",
    "코드참고링크: https://github.com/wikke/Reinforcement_Learning/blob/master/FrozenLake_DQN.py  \n",
    "설명참고링크: https://www.youtube.com/watch?v=S1Y9eys2bdg&t=32s"
   ]
  },
  {
   "cell_type": "markdown",
   "id": "amber-intelligence",
   "metadata": {},
   "source": [
    "딥러닝 적용시 생기는 문제점\n",
    "- correlations between samples\n",
    "- non-stationary targets  \n",
    "\n",
    "해결방법 = DQN\n",
    "- go deep: 네트워크가 깊을수록 좋다\n",
    "- capture and replay: action의 state를 buffer에 저장한 후 랜덤하게 샘플링하여 학습\n",
    "    - correlations between samples 해결\n",
    "- seperate networks: create a target network\n",
    "    - non-stationary targets 해결"
   ]
  },
  {
   "cell_type": "code",
   "execution_count": 30,
   "id": "exciting-defeat",
   "metadata": {},
   "outputs": [
    {
     "name": "stderr",
     "output_type": "stream",
     "text": [
      "Using TensorFlow backend.\n"
     ]
    }
   ],
   "source": [
    "import numpy as np\n",
    "import gym\n",
    "import random\n",
    "# import logging\n",
    "from keras.layers import Dense\n",
    "from keras.models import Sequential\n",
    "from gym.envs.registration import register, spec\n",
    "from collections import deque\n",
    "from pandas import DataFrame, Series"
   ]
  },
  {
   "cell_type": "code",
   "execution_count": 31,
   "id": "perfect-surgery",
   "metadata": {},
   "outputs": [],
   "source": [
    "EPISODES = 2048\n",
    "\n",
    "EPSILON = 1.0\n",
    "EPSILON_DECAY = 0.95\n",
    "EPSILON_MIN = 0.2"
   ]
  },
  {
   "cell_type": "code",
   "execution_count": 32,
   "id": "crucial-cooling",
   "metadata": {},
   "outputs": [],
   "source": [
    "LEARNING_RATE = 0.01 \n",
    "GAMMA = 0.9 \n",
    "BATCH_SIZE = 32"
   ]
  },
  {
   "cell_type": "code",
   "execution_count": 33,
   "id": "beginning-element",
   "metadata": {},
   "outputs": [],
   "source": [
    "ACTION_LEFT = 0\n",
    "ACTION_DOWN = 1\n",
    "ACTION_RIGHT = 2\n",
    "ACTION_UP = 3\n",
    "ACTION_DEFAULT = None\n",
    "ACTION_TEXT = {\n",
    "    ACTION_LEFT: 'left',\n",
    "    ACTION_DOWN: 'down',\n",
    "    ACTION_RIGHT: 'right',\n",
    "    ACTION_UP: 'up'\n",
    "}"
   ]
  },
  {
   "cell_type": "code",
   "execution_count": 34,
   "id": "defined-geometry",
   "metadata": {},
   "outputs": [],
   "source": [
    "class DQNAgent():\n",
    "    def __init__(self):\n",
    "        self.env = self._build_env()\n",
    "        self.nb_status = self.env.observation_space.n\n",
    "        self.nb_action = self.env.action_space.n\n",
    "\n",
    "        self.memory = deque(maxlen=2048)\n",
    "\n",
    "        self.model = self._build_model()\n",
    "\n",
    "    def _build_env(self):\n",
    "        frozen_lake = 'FrozenLakeNonSlippery4x4-v0'\n",
    "        try:\n",
    "            spec(frozen_lake)\n",
    "        except:\n",
    "            register(id=frozen_lake, entry_point='gym.envs.toy_text:FrozenLakeEnv',\n",
    "                     kwargs={'map_name': '4x4', 'is_slippery': False})\n",
    "        return gym.make(frozen_lake)\n",
    "\n",
    "    def episode(self):\n",
    "        status = self.env.reset()\n",
    "\n",
    "        while True:\n",
    "            # env.render()\n",
    "            action = self._choose_action(status)\n",
    "            next_status, reward, done, info = self.env.step(action)\n",
    "\n",
    "\n",
    "            self.memory.append((status, action, reward, next_status, done))\n",
    "            status = next_status\n",
    "\n",
    "            if done:\n",
    "                break\n",
    "\n",
    "\n",
    "    def _choose_action(self, status, choose_best = False, return_probs = False):\n",
    "        global EPSILON\n",
    "\n",
    "        if_explore = False\n",
    "        if choose_best:\n",
    "            if_explore = False\n",
    "        else:\n",
    "            if_explore = np.random.uniform() < EPSILON\n",
    "\n",
    "        action = ACTION_DEFAULT\n",
    "        if if_explore:\n",
    "            # exploration\n",
    "            action = np.random.choice(self.nb_action)\n",
    "        else:\n",
    "            # exploitation\n",
    "            reward_pred = self.model.predict(self._one_hot_status(status))[0]\n",
    "            action = np.argmax(reward_pred)\n",
    "\n",
    "        if EPSILON > EPSILON_MIN:\n",
    "            EPSILON *= EPSILON_DECAY\n",
    "\n",
    "        return action if not return_probs else (action, reward_pred)\n",
    "\n",
    "    def replay(self):\n",
    "        if len(self.memory) < BATCH_SIZE:\n",
    "            return\n",
    "\n",
    "        batches = random.sample(self.memory, BATCH_SIZE)\n",
    "        X = []\n",
    "        y = []\n",
    "        for status, action, reward, next_status, done in batches:\n",
    "            actual_reward = reward\n",
    "\n",
    "            if not done:\n",
    "                next_reward_pred = self.model.predict( self._one_hot_status(next_status))\n",
    "                actual_reward += GAMMA * np.max(next_reward_pred[0])\n",
    "\n",
    "            one_hot_status = self._one_hot_status(status)\n",
    "            reward_pred = self.model.predict(one_hot_status)\n",
    "            reward_pred[0][action] = actual_reward\n",
    "\n",
    "            X.append(one_hot_status[0])\n",
    "            y.append(reward_pred[0])\n",
    "\n",
    "        self.model.train_on_batch(DataFrame(X), DataFrame(y))\n",
    "        # self.model.fit(X, y, epochs=1, verbose=0)\n",
    "\n",
    "    def demo(self):\n",
    "        print(\"\\n---------- DEMO ----------\")\n",
    "        decisions = []\n",
    "        rewards = []\n",
    "        for status in range(self.nb_status):\n",
    "            best_action, reward = self._choose_action(status, choose_best=True, return_probs=True)\n",
    "            decisions.append(best_action)\n",
    "            rewards.append(reward)\n",
    "\n",
    "        for i in range(self.nb_status):\n",
    "            text = ''\n",
    "            if i in (5,7,11,12):\n",
    "                text = 'HOLE'\n",
    "            elif i == 15:\n",
    "                text = 'GOAL'\n",
    "            else:\n",
    "                text = ACTION_TEXT[decisions[i]]\n",
    "\n",
    "            print(\"{0:^7}\".format(text), end='')\n",
    "\n",
    "            if (i + 1) % 4 == 0:\n",
    "                print('\\n')\n",
    "\n",
    "        print('    LEFT          DOWN          RIGHT         UP')\n",
    "        for r in rewards:\n",
    "            print([i for i in r])\n",
    "\n",
    "    def _one_hot_status(self, status):\n",
    "        one_hot_status = np.zeros(self.nb_status)\n",
    "        one_hot_status[status] = 1\n",
    "        one_hot_status = np.expand_dims(one_hot_status, axis=0)\n",
    "        return one_hot_status\n",
    "\n",
    "    def _build_model(self):\n",
    "        model = Sequential()\n",
    "        model.add(Dense(16, input_dim=self.nb_status, activation='relu'))\n",
    "        model.add(Dense(16, activation='relu'))\n",
    "        model.add(Dense(self.nb_action, activation='linear'))\n",
    "\n",
    "        model.compile(loss='mse', optimizer='adadelta')\n",
    "        model.summary()\n",
    "\n",
    "        return model\n"
   ]
  },
  {
   "cell_type": "code",
   "execution_count": 35,
   "id": "robust-delhi",
   "metadata": {},
   "outputs": [],
   "source": [
    "def main():\n",
    "    agent = DQNAgent()\n",
    "\n",
    "    for i in range(EPISODES):\n",
    "        agent.episode()\n",
    "        agent.replay()\n",
    "\n",
    "        if (i+1) % 512 == 0:\n",
    "            agent.demo()\n",
    "            # break"
   ]
  },
  {
   "cell_type": "code",
   "execution_count": 36,
   "id": "crude-circumstances",
   "metadata": {},
   "outputs": [
    {
     "name": "stdout",
     "output_type": "stream",
     "text": [
      "Model: \"sequential_1\"\n",
      "_________________________________________________________________\n",
      "Layer (type)                 Output Shape              Param #   \n",
      "=================================================================\n",
      "dense_1 (Dense)              (None, 16)                272       \n",
      "_________________________________________________________________\n",
      "dense_2 (Dense)              (None, 16)                272       \n",
      "_________________________________________________________________\n",
      "dense_3 (Dense)              (None, 4)                 68        \n",
      "=================================================================\n",
      "Total params: 612\n",
      "Trainable params: 612\n",
      "Non-trainable params: 0\n",
      "_________________________________________________________________\n",
      "WARNING:tensorflow:From C:\\Users\\sohyeon\\Anaconda3\\envs\\metarl\\lib\\site-packages\\tensorflow\\python\\ops\\math_ops.py:3066: to_int32 (from tensorflow.python.ops.math_ops) is deprecated and will be removed in a future version.\n",
      "Instructions for updating:\n",
      "Use tf.cast instead.\n",
      "\n",
      "---------- DEMO ----------\n",
      " right   up    right  right \n",
      "\n",
      "  up    HOLE   right  HOLE  \n",
      "\n",
      " right  down    up    HOLE  \n",
      "\n",
      " HOLE   right  right  GOAL  \n",
      "\n",
      "    LEFT          DOWN          RIGHT         UP\n",
      "[0.049938038, 0.046543565, 0.050800987, 0.03488608]\n",
      "[0.045584954, -0.017346647, 0.036553342, 0.04772796]\n",
      "[0.05472885, -0.011670787, 0.06281254, 0.026420813]\n",
      "[0.041474253, 0.008583063, 0.041914262, 0.016709961]\n",
      "[0.037585564, 0.04732801, 0.042469915, 0.051683106]\n",
      "[0.05456306, -0.0002111122, 0.108722635, -0.059639398]\n",
      "[-0.11257208, -0.07303928, 0.05776816, -0.037019208]\n",
      "[-0.05758041, 0.04551269, 0.040688455, -0.005787546]\n",
      "[-0.077271305, 0.02092984, 0.060737923, -0.030931223]\n",
      "[0.042713977, 0.0505384, 0.029441139, 0.04622239]\n",
      "[0.029609688, -0.012518719, -0.03310172, 0.070797965]\n",
      "[-0.19548768, -0.0693354, 0.1261323, -0.038092516]\n",
      "[0.0762048, 0.13199933, 0.05863363, 0.085624784]\n",
      "[-0.032816548, 0.04927648, 0.078447334, -0.01049605]\n",
      "[-0.03784184, 0.076025635, 0.08909951, -0.044271003]\n",
      "[0.013634212, 0.034163374, 0.06911576, 0.057103682]\n",
      "\n",
      "---------- DEMO ----------\n",
      " down   left   left   left  \n",
      "\n",
      " down   HOLE   down   HOLE  \n",
      "\n",
      " right  down   down   HOLE  \n",
      "\n",
      " HOLE   right  right  GOAL  \n",
      "\n",
      "    LEFT          DOWN          RIGHT         UP\n",
      "[0.44314712, 0.49390984, 0.29364708, 0.26751262]\n",
      "[0.370176, 0.3356763, 0.26347288, 0.2362496]\n",
      "[0.31699058, 0.2978543, 0.25639296, 0.22309536]\n",
      "[0.28648993, 0.13793628, 0.26965788, 0.23095512]\n",
      "[0.43275145, 0.5426954, 0.28357485, 0.2843969]\n",
      "[0.2724683, 0.35418582, 0.5705488, 0.14693582]\n",
      "[0.009967716, 0.18528277, 0.09917209, -0.0009313151]\n",
      "[0.045026157, 0.41846547, 0.34027758, 0.09097562]\n",
      "[0.19611487, 0.42146558, 0.67236876, 0.16847071]\n",
      "[0.43418, 0.8341769, 0.37101367, 0.27366275]\n",
      "[0.16421063, 0.2435843, -0.06909222, 0.13627914]\n",
      "[-0.1152043, 0.24118963, 0.50662863, 0.080074936]\n",
      "[0.36005464, 0.669582, 0.48868763, 0.27478606]\n",
      "[0.21209289, 0.38979423, 0.9371618, 0.23602793]\n",
      "[0.46241242, 0.55643994, 1.0544705, 0.2793391]\n",
      "[0.2766026, 0.3507116, 0.4625346, 0.28153807]\n",
      "\n",
      "---------- DEMO ----------\n",
      " down   left   down   left  \n",
      "\n",
      " down   HOLE   down   HOLE  \n",
      "\n",
      " right  down   down   HOLE  \n",
      "\n",
      " HOLE   right  right  GOAL  \n",
      "\n",
      "    LEFT          DOWN          RIGHT         UP\n",
      "[0.5657881, 0.59492683, 0.47388896, 0.5150459]\n",
      "[0.52157474, 0.34892437, 0.34161466, 0.50423443]\n",
      "[0.40790144, 0.5206702, 0.36996934, 0.48270318]\n",
      "[0.4069358, 0.34445462, 0.33650687, 0.35597777]\n",
      "[0.6381601, 0.66386485, 0.15836105, 0.43515795]\n",
      "[0.38192233, 0.6714051, 0.6181036, 0.43475786]\n",
      "[0.21464133, 0.5989374, 0.09027981, 0.08610289]\n",
      "[0.1831696, 0.65393037, 0.29423153, 0.28040576]\n",
      "[0.48973617, 0.31920683, 0.7441428, 0.4910432]\n",
      "[0.644063, 0.8122245, 0.38548693, 0.3537103]\n",
      "[0.46111777, 0.86367536, -0.10269149, 0.10578614]\n",
      "[0.0212975, 0.39324135, 0.46235815, 0.30684128]\n",
      "[0.52321005, 0.8739196, 0.4575475, 0.4809992]\n",
      "[0.19841, 0.76620257, 0.91143954, 0.67684]\n",
      "[0.8651768, 0.80558455, 1.0029999, 0.72242355]\n",
      "[0.49645182, 0.42797622, 0.46209309, 0.47630814]\n",
      "\n",
      "---------- DEMO ----------\n",
      " down   left   down   left  \n",
      "\n",
      " down   HOLE   down   HOLE  \n",
      "\n",
      " right  down   down   HOLE  \n",
      "\n",
      " HOLE   right  right  GOAL  \n",
      "\n",
      "    LEFT          DOWN          RIGHT         UP\n",
      "[0.55970293, 0.59541816, 0.45181504, 0.52887505]\n",
      "[0.52455497, 0.18525268, 0.32069114, 0.5014681]\n",
      "[0.37699243, 0.65156126, 0.38808596, 0.51434016]\n",
      "[0.43680423, 0.32707146, 0.35485512, 0.35973617]\n",
      "[0.64882505, 0.6599328, 0.07242985, 0.47574973]\n",
      "[0.38491935, 0.72567016, 0.6646933, 0.42430294]\n",
      "[0.22064325, 0.7586094, 0.16030829, 0.12185539]\n",
      "[0.17401871, 0.6456281, 0.31886515, 0.28110892]\n",
      "[0.5918018, 0.17076403, 0.7353331, 0.5060476]\n",
      "[0.6594464, 0.81080824, 0.5919944, 0.28129777]\n",
      "[0.5403642, 0.8877037, -0.038959548, 0.220344]\n",
      "[0.022450998, 0.38961327, 0.44138974, 0.33058798]\n",
      "[0.49198586, 0.9188656, 0.5069543, 0.48084313]\n",
      "[0.055157185, 0.806041, 0.898239, 0.7229874]\n",
      "[0.8422885, 0.8889509, 0.9951806, 0.7830797]\n",
      "[0.5590575, 0.34662956, 0.4245739, 0.4849826]\n",
      "\n",
      "Done\n"
     ]
    }
   ],
   "source": [
    "if __name__ == '__main__':\n",
    "    main()\n",
    "    print('\\nDone')            "
   ]
  },
  {
   "cell_type": "markdown",
   "id": "signed-warrant",
   "metadata": {},
   "source": [
    "아직 이해중...."
   ]
  },
  {
   "cell_type": "markdown",
   "id": "forward-continent",
   "metadata": {},
   "source": [
    "### 4. DDQN + frozen lake 환경\n",
    "코드참고링크: \n",
    "설명참고링크: "
   ]
  },
  {
   "cell_type": "markdown",
   "id": "appointed-afghanistan",
   "metadata": {},
   "source": [
    "DDQN = double "
   ]
  },
  {
   "cell_type": "markdown",
   "id": "cosmetic-ballot",
   "metadata": {},
   "source": [
    "https://sumniya.tistory.com/19\n",
    "https://jsideas.net/dqn/\n",
    "http://khanrc.github.io/RL-DQN.html#dqn\n",
    "https://jsideas.net/dqn/"
   ]
  },
  {
   "cell_type": "code",
   "execution_count": null,
   "id": "prescription-looking",
   "metadata": {},
   "outputs": [],
   "source": []
  }
 ],
 "metadata": {
  "kernelspec": {
   "display_name": "rl",
   "language": "python",
   "name": "metarl"
  },
  "language_info": {
   "codemirror_mode": {
    "name": "ipython",
    "version": 3
   },
   "file_extension": ".py",
   "mimetype": "text/x-python",
   "name": "python",
   "nbconvert_exporter": "python",
   "pygments_lexer": "ipython3",
   "version": "3.7.9"
  }
 },
 "nbformat": 4,
 "nbformat_minor": 5
}
